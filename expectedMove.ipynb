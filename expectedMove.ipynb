{
 "cells": [
  {
   "cell_type": "code",
   "execution_count": 511,
   "metadata": {
    "collapsed": true
   },
   "outputs": [],
   "source": [
    "import pandas as pd\n",
    "import numpy as np\n",
    "import yfinance as yf\n",
    "import matplotlib.pyplot as plt\n",
    "import datetime as dt\n",
    "import warnings\n",
    "\n",
    "warnings.simplefilter(action='ignore', category=FutureWarning)\n",
    "pd.options.mode.chained_assignment = None"
   ]
  },
  {
   "cell_type": "code",
   "execution_count": 512,
   "outputs": [],
   "source": [
    "def options_chain(symbol):\n",
    "\n",
    "    tk = yf.Ticker(symbol)\n",
    "    # Expiration dates\n",
    "    exps = tk.options\n",
    "\n",
    "    # Get options for each expiration\n",
    "    options = pd.DataFrame()\n",
    "    for e in exps:\n",
    "        opt = tk.option_chain(e)\n",
    "        opt = pd.DataFrame().append(opt.calls).append(opt.puts)\n",
    "        opt['expirationDate'] = e\n",
    "        options = options.append(opt, ignore_index=True)\n",
    "\n",
    "    # Boolean column if the option is a CALL\n",
    "    options['CALL'] = options['contractSymbol'].str[4:].apply(\n",
    "        lambda x: \"C\" in x)\n",
    "\n",
    "    options[['bid', 'ask', 'strike']] = options[['bid', 'ask', 'strike']].apply(pd.to_numeric)\n",
    "    options['mark'] = (options['bid'] + options['ask']) / 2 # Calculate the midpoint of the bid-ask\n",
    "\n",
    "    # Drop unnecessary and meaningless columns\n",
    "    options = options.drop(columns = ['contractSize', 'currency', 'change', 'percentChange', 'lastTradeDate', 'lastPrice'])\n",
    "\n",
    "    return options\n",
    "def get_current_price(symbol):\n",
    "    ticker = yf.Ticker(symbol)\n",
    "    todays_data = ticker.history(period='1d')\n",
    "    return todays_data['Close'][0]"
   ],
   "metadata": {
    "collapsed": false,
    "pycharm": {
     "name": "#%%\n"
    }
   }
  },
  {
   "cell_type": "code",
   "execution_count": 513,
   "outputs": [],
   "source": [
    "stock = 'XLE'\n",
    "S = int(get_current_price(stock))"
   ],
   "metadata": {
    "collapsed": false,
    "pycharm": {
     "name": "#%%\n"
    }
   }
  },
  {
   "cell_type": "code",
   "execution_count": 514,
   "outputs": [],
   "source": [
    "options = options_chain(stock)"
   ],
   "metadata": {
    "collapsed": false,
    "pycharm": {
     "name": "#%%\n"
    }
   }
  },
  {
   "cell_type": "code",
   "execution_count": 515,
   "outputs": [],
   "source": [
    "options = options.rename(columns={'impliedVolatility':'iv'})\n",
    "options['expirationDate'] = pd.to_datetime(options['expirationDate'])\n",
    "options['DTE'] = options.expirationDate - dt.datetime.today() #adding days to expiration\n",
    "options['DTE'] = pd.to_numeric(options['DTE'].dt.days, downcast='integer') #getting as day int\n",
    "options['DTE'] = options['DTE'] + 1\n",
    "options = options[options.DTE < 300]"
   ],
   "metadata": {
    "collapsed": false,
    "pycharm": {
     "name": "#%%\n"
    }
   }
  },
  {
   "cell_type": "code",
   "execution_count": 516,
   "outputs": [],
   "source": [
    "calls = options[options.CALL == True]\n",
    "puts = options[options.CALL == False]\n",
    "calls['Moneyness'] = (( S - calls.strike ) / S ) * 100 #Adding % out/in the money column (moneyness)\n",
    "puts['Moneyness'] = (( puts.strike - S ) / S ) * 100"
   ],
   "metadata": {
    "collapsed": false,
    "pycharm": {
     "name": "#%%\n"
    }
   }
  },
  {
   "cell_type": "code",
   "execution_count": 517,
   "outputs": [],
   "source": [
    "closest = abs(0 - calls.Moneyness).min() #finding closest moneyness\n",
    "closest1 =  abs(0 - puts.Moneyness).min()"
   ],
   "metadata": {
    "collapsed": false,
    "pycharm": {
     "name": "#%%\n"
    }
   }
  },
  {
   "cell_type": "code",
   "execution_count": 518,
   "outputs": [],
   "source": [
    "ATM_Calls = calls[(calls.Moneyness == closest) | (calls.Moneyness == -closest)] #filtering to closest moneyness for each DTE\n",
    "ATM_Puts = puts[(puts.Moneyness == closest1) | (puts.Moneyness == -closest1)]"
   ],
   "metadata": {
    "collapsed": false,
    "pycharm": {
     "name": "#%%\n"
    }
   }
  },
  {
   "cell_type": "code",
   "execution_count": 519,
   "outputs": [
    {
     "data": {
      "text/plain": "   DTE   price        iv\n0    1   1.200  0.243660\n1    9   2.895  0.278205\n2   16   3.985  0.293952\n3   23   4.905  0.303840\n4   30   5.670  0.312629\n5   37   6.285  0.310493\n6   44   6.825  0.312019\n7   65   8.375  0.315437\n8  128  11.775  0.317725\n9  156  12.975  0.317084",
      "text/html": "<div>\n<style scoped>\n    .dataframe tbody tr th:only-of-type {\n        vertical-align: middle;\n    }\n\n    .dataframe tbody tr th {\n        vertical-align: top;\n    }\n\n    .dataframe thead th {\n        text-align: right;\n    }\n</style>\n<table border=\"1\" class=\"dataframe\">\n  <thead>\n    <tr style=\"text-align: right;\">\n      <th></th>\n      <th>DTE</th>\n      <th>price</th>\n      <th>iv</th>\n    </tr>\n  </thead>\n  <tbody>\n    <tr>\n      <th>0</th>\n      <td>1</td>\n      <td>1.200</td>\n      <td>0.243660</td>\n    </tr>\n    <tr>\n      <th>1</th>\n      <td>9</td>\n      <td>2.895</td>\n      <td>0.278205</td>\n    </tr>\n    <tr>\n      <th>2</th>\n      <td>16</td>\n      <td>3.985</td>\n      <td>0.293952</td>\n    </tr>\n    <tr>\n      <th>3</th>\n      <td>23</td>\n      <td>4.905</td>\n      <td>0.303840</td>\n    </tr>\n    <tr>\n      <th>4</th>\n      <td>30</td>\n      <td>5.670</td>\n      <td>0.312629</td>\n    </tr>\n    <tr>\n      <th>5</th>\n      <td>37</td>\n      <td>6.285</td>\n      <td>0.310493</td>\n    </tr>\n    <tr>\n      <th>6</th>\n      <td>44</td>\n      <td>6.825</td>\n      <td>0.312019</td>\n    </tr>\n    <tr>\n      <th>7</th>\n      <td>65</td>\n      <td>8.375</td>\n      <td>0.315437</td>\n    </tr>\n    <tr>\n      <th>8</th>\n      <td>128</td>\n      <td>11.775</td>\n      <td>0.317725</td>\n    </tr>\n    <tr>\n      <th>9</th>\n      <td>156</td>\n      <td>12.975</td>\n      <td>0.317084</td>\n    </tr>\n  </tbody>\n</table>\n</div>"
     },
     "execution_count": 519,
     "metadata": {},
     "output_type": "execute_result"
    }
   ],
   "source": [
    "data = []\n",
    "\n",
    "for (_, aCall) ,(_,aPut) in zip(ATM_Calls.iterrows(), ATM_Puts.iterrows()):\n",
    "\n",
    "    if aCall.DTE != aPut.DTE:\n",
    "        continue\n",
    "\n",
    "    straddle_price = aCall.mark + aPut.mark\n",
    "    iv = (aCall.iv + aPut.iv) / 2\n",
    "    data.append([aCall.DTE, straddle_price, iv])\n",
    "straddles = pd.DataFrame(data, columns=[\"DTE\", \"price\", \"iv\"])\n",
    "straddles"
   ],
   "metadata": {
    "collapsed": false,
    "pycharm": {
     "name": "#%%\n"
    }
   }
  },
  {
   "cell_type": "code",
   "execution_count": 520,
   "outputs": [],
   "source": [
    "straddles['85_method'] = straddles.price * .85"
   ],
   "metadata": {
    "collapsed": false,
    "pycharm": {
     "name": "#%%\n"
    }
   }
  },
  {
   "cell_type": "code",
   "execution_count": 521,
   "outputs": [],
   "source": [
    "straddles['iv_method'] = S * straddles.iv * np.sqrt(straddles.DTE/252)"
   ],
   "metadata": {
    "collapsed": false,
    "pycharm": {
     "name": "#%%\n"
    }
   }
  },
  {
   "cell_type": "code",
   "execution_count": 522,
   "outputs": [],
   "source": [
    "straddles_negative = straddles.copy()"
   ],
   "metadata": {
    "collapsed": false,
    "pycharm": {
     "name": "#%%\n"
    }
   }
  },
  {
   "cell_type": "code",
   "execution_count": 523,
   "outputs": [],
   "source": [
    "straddles_negative['85_method'] = straddles_negative['85_method'] * -1 #negative because +- move\n",
    "straddles['iv_method'] = straddles['iv_method'] * -1"
   ],
   "metadata": {
    "collapsed": false,
    "pycharm": {
     "name": "#%%\n"
    }
   }
  },
  {
   "cell_type": "code",
   "execution_count": 524,
   "outputs": [],
   "source": [
    "combined = straddles.append(straddles_negative)"
   ],
   "metadata": {
    "collapsed": false,
    "pycharm": {
     "name": "#%%\n"
    }
   }
  },
  {
   "cell_type": "code",
   "execution_count": 525,
   "outputs": [
    {
     "data": {
      "text/plain": "Text(0.5, 0, 'DTE')"
     },
     "execution_count": 525,
     "metadata": {},
     "output_type": "execute_result"
    },
    {
     "data": {
      "text/plain": "<Figure size 432x288 with 2 Axes>",
      "image/png": "[encoded data removed]"
     },
     "metadata": {
      "needs_background": "light"
     },
     "output_type": "display_data"
    }
   ],
   "source": [
    "fig, (ax1,ax2) = plt.subplots(1,2, sharey=True)\n",
    "\n",
    "ax1.plot(combined.DTE, combined['85_method'],'m.')\n",
    "ax1.set_title('85% ATM Straddle Method')\n",
    "ax1.set_xlabel('DTE')\n",
    "ax1.set_ylabel(f'Expected Move for {stock}')\n",
    "\n",
    "ax2.plot(combined.DTE, combined.iv_method, 'm.')\n",
    "ax2.set_title('ATM Straddle IV Method')\n",
    "ax2.set_xlabel('DTE')"
   ],
   "metadata": {
    "collapsed": false,
    "pycharm": {
     "name": "#%%\n"
    }
   }
  },
  {
   "cell_type": "code",
   "execution_count": null,
   "outputs": [],
   "source": [],
   "metadata": {
    "collapsed": false,
    "pycharm": {
     "name": "#%%\n"
    }
   }
  }
 ],
 "metadata": {
  "kernelspec": {
   "display_name": "Python 3",
   "language": "python",
   "name": "python3"
  },
  "language_info": {
   "codemirror_mode": {
    "name": "ipython",
    "version": 2
   },
   "file_extension": ".py",
   "mimetype": "text/x-python",
   "name": "python",
   "nbconvert_exporter": "python",
   "pygments_lexer": "ipython2",
   "version": "2.7.6"
  }
 },
 "nbformat": 4,
 "nbformat_minor": 0
}